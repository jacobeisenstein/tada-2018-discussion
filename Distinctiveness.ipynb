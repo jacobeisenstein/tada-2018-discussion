{
 "cells": [
  {
   "cell_type": "code",
   "execution_count": 2,
   "metadata": {
    "slideshow": {
     "slide_type": "skip"
    }
   },
   "outputs": [],
   "source": [
    "import numpy as np\n",
    "from numpy.random import multinomial\n",
    "\n",
    "from scipy.special import logsumexp, digamma\n",
    "\n",
    "import pandas as pd\n",
    "import seaborn as sns\n",
    "\n",
    "import matplotlib.pyplot as plt\n",
    "%matplotlib inline"
   ]
  },
  {
   "cell_type": "markdown",
   "metadata": {
    "slideshow": {
     "slide_type": "slide"
    }
   },
   "source": [
    "# Same Difference: Estimation and Inference for Distinctiveness at Westminster\n",
    "- Spirling, Huang, and Perry\n",
    "- Discussion notebook by Jacob Eisenstein"
   ]
  },
  {
   "cell_type": "markdown",
   "metadata": {
    "slideshow": {
     "slide_type": "slide"
    }
   },
   "source": [
    "# Quantifying distinctive speech\n",
    "\n",
    "- Spirling et al propose a novel metric for quantifying the distinctiveness of a legislator's speech, in comparison with other legislators from the same session.\n",
    "- Draws on ideas from author identification (e.g. Mosteller and Wallace 1964, Juola 2008, Stamatatos 2009)\n",
    "- A speaker is distinctive to the extent that they are recognizable to a statistical classifier.\n"
   ]
  },
  {
   "cell_type": "markdown",
   "metadata": {
    "slideshow": {
     "slide_type": "slide"
    }
   },
   "source": [
    "# The details\n",
    "\n",
    "- For each word $v$, compute the empirical frequency rate for author $s$\n",
    "    \\begin{align}\n",
    "    \\hat{p}(v \\mid s) = &{} \\frac{n_{v,s} + \\alpha}{\\sum_{v'} (n_{v',s} + \\alpha)}\\\\\n",
    "    \\eta_{v,s} \\triangleq &{} \\log \\hat{p}(v \\mid s)\n",
    "    \\end{align}\n",
    "- $\\eta$ parametrizes the log-odds of authors $s$ and $t$ conditioned on bag-of-words $\\vec{x}$:\n",
    "    \\begin{align}\n",
    "    d_{s,t} = &{} \\log \\frac{p(\\vec{x} \\mid s)}{p(\\vec{x} \\mid t)} = \\frac{1}{N_s} \\sum_{v} x_v (\\eta_{s,v} - \\eta_{t,v})\n",
    "    \\end{align}\n",
    "    This is the KL-divergence $D_{\\text{KL}}(\\hat{p}_{s} || \\hat{p}_t)$\n",
    "- The distinctiveness of each author is computed with respect to the average $\\overline{\\eta}$,\n",
    "    \\begin{align}\n",
    "    \\overline{\\eta}_{v} = &{} \\frac{1}{|S|} \\sum_{s=1}^S \\eta_{s,v}\\\\\n",
    "    \\mathbb{D}_s = &{} \\sum_v \\hat{p}_{s,v} (\\eta_{s,v} - \\overline{\\eta}_{t,v})\n",
    "    \\end{align}\n"
   ]
  },
  {
   "cell_type": "markdown",
   "metadata": {
    "slideshow": {
     "slide_type": "slide"
    }
   },
   "source": [
    "# Questions for discussion\n",
    "\n",
    "- Does this method work?\n",
    "- Is there a Bayesian alternative?"
   ]
  },
  {
   "cell_type": "markdown",
   "metadata": {
    "slideshow": {
     "slide_type": "slide"
    }
   },
   "source": [
    "# Testing on synthetic data\n",
    "\n",
    "- Imagine we have three legislators, $a, b, c$\n",
    "- The (unseen) true word distributions for $a$ and $b$ are the same\n",
    "- The word distribution for $c$ is different"
   ]
  },
  {
   "cell_type": "code",
   "execution_count": 3,
   "metadata": {
    "slideshow": {
     "slide_type": "subslide"
    }
   },
   "outputs": [
    {
     "data": {
      "image/png": "[encoded data removed]",
      "text/plain": [
       "<Figure size 432x288 with 1 Axes>"
      ]
     },
     "metadata": {
      "needs_background": "light"
     },
     "output_type": "display_data"
    }
   ],
   "source": [
    "V = 10000 # vocabulary size\n",
    "zipf_coef = 1.2 \n",
    "\n",
    "# unnormalized probabilities\n",
    "p_word = np.array([r**(-zipf_coef) for r in range(1,V)])\n",
    "\n",
    "# normalized log-probabilities\n",
    "log_p_word = np.log(p_word) - np.log(p_word.sum())\n",
    "\n",
    "plt.semilogx(log_p_word)\n",
    "plt.xlabel('rank')\n",
    "plt.ylabel('$\\\\log p(v)$');"
   ]
  },
  {
   "cell_type": "markdown",
   "metadata": {
    "slideshow": {
     "slide_type": "subslide"
    }
   },
   "source": [
    "- Now let's generate an alternative word distribution for legislator $c$\n",
    "- This legislator has a set of \"favorite words\", which are far more likely\n",
    "- The probabilities of other words are decreased correspondingly"
   ]
  },
  {
   "cell_type": "code",
   "execution_count": 4,
   "metadata": {
    "slideshow": {
     "slide_type": "subslide"
    }
   },
   "outputs": [],
   "source": [
    "num_faves = 50\n",
    "fave_bonus = 5 #increase in log-probability for favorite words \n",
    "\n",
    "faves = np.random.randint(20,V-1,num_faves)\n",
    "log_p_word_c = log_p_word.copy()\n",
    "log_p_word_c[faves] += np.log(fave_bonus)\n",
    "log_p_word_c -= logsumexp(log_p_word_c)"
   ]
  },
  {
   "cell_type": "code",
   "execution_count": 5,
   "metadata": {
    "slideshow": {
     "slide_type": "subslide"
    }
   },
   "outputs": [
    {
     "data": {
      "image/png": "[encoded data removed]",
      "text/plain": [
       "<Figure size 432x288 with 1 Axes>"
      ]
     },
     "metadata": {
      "needs_background": "light"
     },
     "output_type": "display_data"
    }
   ],
   "source": [
    "plt.semilogx(log_p_word,'b-')\n",
    "plt.semilogx(log_p_word_c,'rx')\n",
    "plt.xlabel('word rank')\n",
    "plt.ylabel('$\\\\log p(v)$');\n",
    "plt.legend(['legislators $a$ and $b$','legislator $c$']);"
   ]
  },
  {
   "cell_type": "markdown",
   "metadata": {
    "slideshow": {
     "slide_type": "slide"
    }
   },
   "source": [
    "# A test\n",
    "\n",
    "- Does the method successfully identify $c$ as more distinctive than $a$ and $b$?\n",
    "- To answer, we need to generate actual text, and then apply the method"
   ]
  },
  {
   "cell_type": "code",
   "execution_count": 6,
   "metadata": {
    "slideshow": {
     "slide_type": "skip"
    }
   },
   "outputs": [],
   "source": [
    "# N_speeches, words_per_speech from appendix C of SI\n",
    "def generate_data(log_p_word,num_faves=50,fave_bonus=5,N_speeches=50,words_per_speech=200):\n",
    "    faves = np.random.randint(20,V-1,num_faves)\n",
    "    log_p_word_c = log_p_word.copy()\n",
    "    log_p_word_c[faves] += np.log(fave_bonus)\n",
    "    log_p_word_c -= logsumexp(log_p_word_c)\n",
    "    \n",
    "    log_p_words = np.vstack([log_p_word,log_p_word,log_p_word_c])\n",
    "    x = [multinomial(words_per_speech,np.exp(log_p_words_s),N_speeches)\n",
    "         for log_p_words_s in log_p_words]\n",
    "\n",
    "    return x"
   ]
  },
  {
   "cell_type": "code",
   "execution_count": 14,
   "metadata": {
    "slideshow": {
     "slide_type": "subslide"
    }
   },
   "outputs": [
    {
     "name": "stdout",
     "output_type": "stream",
     "text": [
      "[[38 26 12 ...  0  0  0]\n",
      " [44 22 14 ...  0  0  0]\n",
      " [38 14 14 ...  0  0  0]]\n",
      "\n",
      "[[39 25  8 ...  0  0  0]\n",
      " [41 17 15 ...  0  0  0]\n",
      " [37 24 15 ...  0  0  0]]\n",
      "\n",
      "[[39 18 13 ...  0  0  0]\n",
      " [52 18  7 ...  0  0  0]\n",
      " [38 20 12 ...  0  0  0]]\n",
      "\n"
     ]
    }
   ],
   "source": [
    "x = generate_data(log_p_word)\n",
    "# data is list of bag-of-words matrices\n",
    "for x_i in x:\n",
    "    print(x_i[:3])\n",
    "    print()"
   ]
  },
  {
   "cell_type": "code",
   "execution_count": 212,
   "metadata": {
    "slideshow": {
     "slide_type": "skip"
    }
   },
   "outputs": [],
   "source": [
    "# smoothing value from PC with the authors\n",
    "def compute_D(x, smoothing = 0.5, bayesian= False):\n",
    "    if bayesian:\n",
    "        eta = np.vstack([digamma(smoothing + x_i.sum(0)) - digamma(V*smoothing + x_i.sum()) for x_i in x])\n",
    "    else:\n",
    "        eta = np.vstack([np.log(smoothing + x_i.sum(0)) - np.log(V*smoothing + x_i.sum()) for x_i in x])\n",
    "    f_bar = np.vstack([np.dot(np.diag(1./x_s.sum(1)),x_s).mean(0) for x_s in x])\n",
    "    eta_bar = eta.mean(0)\n",
    "    D = np.diag(np.dot(f_bar,(eta - eta_bar).T))\n",
    "    return D"
   ]
  },
  {
   "cell_type": "code",
   "execution_count": 213,
   "metadata": {
    "slideshow": {
     "slide_type": "fragment"
    }
   },
   "outputs": [
    {
     "data": {
      "text/plain": [
       "array([0.11714394, 0.11454579, 0.12189767])"
      ]
     },
     "execution_count": 213,
     "metadata": {},
     "output_type": "execute_result"
    }
   ],
   "source": [
    "compute_D(x)"
   ]
  },
  {
   "cell_type": "markdown",
   "metadata": {
    "slideshow": {
     "slide_type": "fragment"
    }
   },
   "source": [
    "- In this case, it works! Legislator $c$ is the most distinctive of the three. \n",
    "- How often does this happen in general?"
   ]
  },
  {
   "cell_type": "code",
   "execution_count": 216,
   "metadata": {
    "slideshow": {
     "slide_type": "subslide"
    }
   },
   "outputs": [
    {
     "name": "stdout",
     "output_type": "stream",
     "text": [
      "accuracy: 0.6666666666666666\n"
     ]
    }
   ],
   "source": [
    "num_correct = 0\n",
    "N_trials = 300\n",
    "for _ in range(N_trials):\n",
    "    output = compute_D(generate_data(log_p_word))\n",
    "    num_correct += (output.argmax() == 2)\n",
    "print(f'accuracy: {num_correct/N_trials}')"
   ]
  },
  {
   "cell_type": "markdown",
   "metadata": {
    "slideshow": {
     "slide_type": "fragment"
    }
   },
   "source": [
    "2/3 of the time, the method identifies $c$ as the most distinctive legislator.\n",
    "\n",
    "- How does this depend on:\n",
    "    - the true underlying differences between legislators?\n",
    "    - the amount of data?\n",
    "    - the amount of smoothing?\n",
    "    - violations of the independence assumptions?"
   ]
  },
  {
   "cell_type": "markdown",
   "metadata": {
    "slideshow": {
     "slide_type": "slide"
    }
   },
   "source": [
    "# A Bayesian perspective\n",
    "\n",
    "\\begin{align}\n",
    "\\vec{\\theta}_s \\sim &{} \\text{Dirichlet}(\\alpha \\vec{1})\\\\\n",
    "\\vec{x} \\mid \\vec{\\theta}_s \\sim  &{} \\text{Multinomial}(\\vec{\\theta}_s, N_s)\\\\\n",
    "\\vec{\\theta}_s \\mid \\vec{x}, \\alpha \\sim &{} \\text{Dirichlet}(\\vec{x} + \\alpha)\n",
    "\\end{align}\n",
    "\n",
    "This generative model makes it possible to compute the expected log-probability, rather than taking the log of the point estimate:\n",
    "\n",
    "\\begin{align}\n",
    "E[\\log \\theta_{s,v}] = &{} \\psi(x_{s,v} + \\alpha) - \\psi(V \\alpha + \\sum_{v'} x_{s,v'}),\n",
    "\\end{align}\n",
    "where $\\psi$ is the digamma function. Might this Bayesian approach be more robust to small data?"
   ]
  },
  {
   "cell_type": "code",
   "execution_count": 262,
   "metadata": {
    "slideshow": {
     "slide_type": "subslide"
    }
   },
   "outputs": [
    {
     "data": {
      "image/png": "[encoded data removed]",
      "text/plain": [
       "<Figure size 432x288 with 1 Axes>"
      ]
     },
     "metadata": {},
     "output_type": "display_data"
    }
   ],
   "source": [
    "# the digamma function\n",
    "x = np.linspace(0.55, 2)\n",
    "plt.plot(x,digamma(x),'b-')\n",
    "plt.plot(x,np.log(x-.5),'r--')\n",
    "plt.xlabel('$x$')\n",
    "plt.legend(['$\\\\log(x - \\\\frac{1}{2})$','$\\\\psi(x)$']);"
   ]
  },
  {
   "cell_type": "code",
   "execution_count": 227,
   "metadata": {
    "slideshow": {
     "slide_type": "subslide"
    }
   },
   "outputs": [
    {
     "name": "stdout",
     "output_type": "stream",
     "text": [
      "accuracy: 0.7633333333333333\n"
     ]
    }
   ],
   "source": [
    "num_correct = 0\n",
    "N_trials = 300\n",
    "for _ in range(N_trials):\n",
    "    output = compute_D(generate_data(log_p_word),bayesian=True)\n",
    "    num_correct += (output.argmax() == 2)\n",
    "print(f'accuracy: {num_correct/N_trials}')"
   ]
  },
  {
   "cell_type": "markdown",
   "metadata": {
    "slideshow": {
     "slide_type": "fragment"
    }
   },
   "source": [
    "Better! Does this hold systematically?"
   ]
  },
  {
   "cell_type": "code",
   "execution_count": 168,
   "metadata": {
    "slideshow": {
     "slide_type": "skip"
    }
   },
   "outputs": [
    {
     "data": {
      "application/vnd.jupyter.widget-view+json": {
       "model_id": "7d47a9e486e24172a784f6acd6432219",
       "version_major": 2,
       "version_minor": 0
      },
      "text/plain": [
       "HBox(children=(IntProgress(value=1, bar_style='info', max=1), HTML(value='')))"
      ]
     },
     "metadata": {},
     "output_type": "display_data"
    },
    {
     "data": {
      "application/vnd.jupyter.widget-view+json": {
       "model_id": "5c4eba3550ee4f67bef4aa78e4ef1b0b",
       "version_major": 2,
       "version_minor": 0
      },
      "text/plain": [
       "HBox(children=(IntProgress(value=0, max=4), HTML(value='')))"
      ]
     },
     "metadata": {},
     "output_type": "display_data"
    },
    {
     "data": {
      "application/vnd.jupyter.widget-view+json": {
       "model_id": "42661b9f81e04f87a38227255b9500c6",
       "version_major": 2,
       "version_minor": 0
      },
      "text/plain": [
       "HBox(children=(IntProgress(value=0, max=1000), HTML(value='')))"
      ]
     },
     "metadata": {},
     "output_type": "display_data"
    },
    {
     "data": {
      "application/vnd.jupyter.widget-view+json": {
       "model_id": "57979786269f4a2f836fbc084da21bed",
       "version_major": 2,
       "version_minor": 0
      },
      "text/plain": [
       "HBox(children=(IntProgress(value=0, max=1000), HTML(value='')))"
      ]
     },
     "metadata": {},
     "output_type": "display_data"
    },
    {
     "data": {
      "application/vnd.jupyter.widget-view+json": {
       "model_id": "dc7f29bba7ae4c06b1fb91efceafa69e",
       "version_major": 2,
       "version_minor": 0
      },
      "text/plain": [
       "HBox(children=(IntProgress(value=0, max=1000), HTML(value='')))"
      ]
     },
     "metadata": {},
     "output_type": "display_data"
    },
    {
     "data": {
      "application/vnd.jupyter.widget-view+json": {
       "model_id": "6a8dbc3ea9ba40b98c406f6127463cbb",
       "version_major": 2,
       "version_minor": 0
      },
      "text/plain": [
       "HBox(children=(IntProgress(value=0, max=1000), HTML(value='')))"
      ]
     },
     "metadata": {},
     "output_type": "display_data"
    },
    {
     "data": {
      "application/vnd.jupyter.widget-view+json": {
       "model_id": "2d0aa45959dd4e9ebf5f716c4f5452a7",
       "version_major": 2,
       "version_minor": 0
      },
      "text/plain": [
       "HBox(children=(IntProgress(value=0, max=4), HTML(value='')))"
      ]
     },
     "metadata": {},
     "output_type": "display_data"
    },
    {
     "data": {
      "application/vnd.jupyter.widget-view+json": {
       "model_id": "2e5e81bffc1841c986e0389f1d2dda4d",
       "version_major": 2,
       "version_minor": 0
      },
      "text/plain": [
       "HBox(children=(IntProgress(value=0, max=1000), HTML(value='')))"
      ]
     },
     "metadata": {},
     "output_type": "display_data"
    },
    {
     "data": {
      "application/vnd.jupyter.widget-view+json": {
       "model_id": "d79091951a934f17a6fca39f52f5f3d8",
       "version_major": 2,
       "version_minor": 0
      },
      "text/plain": [
       "HBox(children=(IntProgress(value=0, max=1000), HTML(value='')))"
      ]
     },
     "metadata": {},
     "output_type": "display_data"
    },
    {
     "data": {
      "application/vnd.jupyter.widget-view+json": {
       "model_id": "a6f76539990e4253ac36d6b20a97e586",
       "version_major": 2,
       "version_minor": 0
      },
      "text/plain": [
       "HBox(children=(IntProgress(value=0, max=1000), HTML(value='')))"
      ]
     },
     "metadata": {},
     "output_type": "display_data"
    },
    {
     "data": {
      "application/vnd.jupyter.widget-view+json": {
       "model_id": "6faa33da45d34837a04fe5a74e87d93a",
       "version_major": 2,
       "version_minor": 0
      },
      "text/plain": [
       "HBox(children=(IntProgress(value=0, max=1000), HTML(value='')))"
      ]
     },
     "metadata": {},
     "output_type": "display_data"
    },
    {
     "data": {
      "application/vnd.jupyter.widget-view+json": {
       "model_id": "474f922c29f849c5a0ca1c768bb666c7",
       "version_major": 2,
       "version_minor": 0
      },
      "text/plain": [
       "HBox(children=(IntProgress(value=0, max=4), HTML(value='')))"
      ]
     },
     "metadata": {},
     "output_type": "display_data"
    },
    {
     "data": {
      "application/vnd.jupyter.widget-view+json": {
       "model_id": "cf6fff5e7a5a4af088469de3a0a401f6",
       "version_major": 2,
       "version_minor": 0
      },
      "text/plain": [
       "HBox(children=(IntProgress(value=0, max=1000), HTML(value='')))"
      ]
     },
     "metadata": {},
     "output_type": "display_data"
    },
    {
     "data": {
      "application/vnd.jupyter.widget-view+json": {
       "model_id": "6f4ba4a2b823466c98a9869dd586a9d8",
       "version_major": 2,
       "version_minor": 0
      },
      "text/plain": [
       "HBox(children=(IntProgress(value=0, max=1000), HTML(value='')))"
      ]
     },
     "metadata": {},
     "output_type": "display_data"
    },
    {
     "data": {
      "application/vnd.jupyter.widget-view+json": {
       "model_id": "9e610a8e985241028f14f780ad83f11b",
       "version_major": 2,
       "version_minor": 0
      },
      "text/plain": [
       "HBox(children=(IntProgress(value=0, max=1000), HTML(value='')))"
      ]
     },
     "metadata": {},
     "output_type": "display_data"
    },
    {
     "data": {
      "application/vnd.jupyter.widget-view+json": {
       "model_id": "8ea84849b51e40328e7ca2d04ab5a5cf",
       "version_major": 2,
       "version_minor": 0
      },
      "text/plain": [
       "HBox(children=(IntProgress(value=0, max=1000), HTML(value='')))"
      ]
     },
     "metadata": {},
     "output_type": "display_data"
    },
    {
     "data": {
      "application/vnd.jupyter.widget-view+json": {
       "model_id": "11a78827cb2944369564d4617dbb260c",
       "version_major": 2,
       "version_minor": 0
      },
      "text/plain": [
       "HBox(children=(IntProgress(value=0, max=4), HTML(value='')))"
      ]
     },
     "metadata": {},
     "output_type": "display_data"
    },
    {
     "data": {
      "application/vnd.jupyter.widget-view+json": {
       "model_id": "dcc4186e94034171847f880c5141a1fb",
       "version_major": 2,
       "version_minor": 0
      },
      "text/plain": [
       "HBox(children=(IntProgress(value=0, max=1000), HTML(value='')))"
      ]
     },
     "metadata": {},
     "output_type": "display_data"
    },
    {
     "data": {
      "application/vnd.jupyter.widget-view+json": {
       "model_id": "0966ca7e5fc24053867b048dd2f6cf5c",
       "version_major": 2,
       "version_minor": 0
      },
      "text/plain": [
       "HBox(children=(IntProgress(value=0, max=1000), HTML(value='')))"
      ]
     },
     "metadata": {},
     "output_type": "display_data"
    },
    {
     "data": {
      "application/vnd.jupyter.widget-view+json": {
       "model_id": "2c6d9d19e5f947d2a4cf55208cfeb03d",
       "version_major": 2,
       "version_minor": 0
      },
      "text/plain": [
       "HBox(children=(IntProgress(value=0, max=1000), HTML(value='')))"
      ]
     },
     "metadata": {},
     "output_type": "display_data"
    },
    {
     "data": {
      "application/vnd.jupyter.widget-view+json": {
       "model_id": "db9c5b17d35040e1ae973fcebcd14171",
       "version_major": 2,
       "version_minor": 0
      },
      "text/plain": [
       "HBox(children=(IntProgress(value=0, max=1000), HTML(value='')))"
      ]
     },
     "metadata": {},
     "output_type": "display_data"
    },
    {
     "name": "stdout",
     "output_type": "stream",
     "text": [
      "\n"
     ]
    }
   ],
   "source": [
    "smoothers = [.01, .1, .5, 1.]\n",
    "num_speeches = [25, 50, 100, 200]\n",
    "N_samp = 1000\n",
    "\n",
    "accuracies = dict()\n",
    "\n",
    "linestyles = ['k-','b:','r--','g-.']\n",
    "\n",
    "records = []\n",
    "for smoother,linestyle in tqdm_notebook(zip(smoothers,linestyles)):\n",
    "    accs = []\n",
    "    for num_speech in tqdm_notebook(num_speeches):\n",
    "        record_map = {'smoother':smoother,\n",
    "                  'N_speech':num_speech,\n",
    "                  'method':'MAP',\n",
    "                  'accuracy':0}\n",
    "        record_semibayes = {'smoother':smoother,\n",
    "                            'N_speech':num_speech,\n",
    "                            'method':'semi_bayes',\n",
    "                            'accuracy':0}\n",
    "        record_fullbayes = {'smoother':smoother,\n",
    "                            'N_speech':num_speech,\n",
    "                            'method':'full_bayes',\n",
    "                            'accuracy':0}\n",
    "\n",
    "        for _ in tqdm_notebook(range(N_samp)):\n",
    "            data = generate_data(log_p_word,N_speeches=num_speech)        \n",
    "            record_map['accuracy'] += 1*(compute_D(data, smoother).argmax()==2)/N_samp\n",
    "            record_semibayes['accuracy'] += 1*(compute_D(data, smoother, bayesian=True).argmax()==2)/N_samp\n",
    "            #record_fullbayes['accuracy'] += 1*(compute_D_bayesian(data, smoother).argmax()==2)/N_samp\n",
    "        \n",
    "        records.append(record_map)\n",
    "        records.append(record_semibayes)\n",
    "\n",
    "        records.append(record_fullbayes)\n"
   ]
  },
  {
   "cell_type": "code",
   "execution_count": 169,
   "metadata": {
    "slideshow": {
     "slide_type": "skip"
    }
   },
   "outputs": [],
   "source": [
    "df = pd.DataFrame(records)"
   ]
  },
  {
   "cell_type": "code",
   "execution_count": 267,
   "metadata": {
    "slideshow": {
     "slide_type": "skip"
    }
   },
   "outputs": [],
   "source": [
    "df.to_csv('distinct-results.csv')"
   ]
  },
  {
   "cell_type": "code",
   "execution_count": 246,
   "metadata": {
    "slideshow": {
     "slide_type": "skip"
    }
   },
   "outputs": [],
   "source": [
    "df2 = df[df['method']!='full_bayes']"
   ]
  },
  {
   "cell_type": "code",
   "execution_count": 261,
   "metadata": {
    "slideshow": {
     "slide_type": "subslide"
    }
   },
   "outputs": [
    {
     "data": {
      "image/png": "[encoded data removed]",
      "text/plain": [
       "<Figure size 783.975x360 with 2 Axes>"
      ]
     },
     "metadata": {},
     "output_type": "display_data"
    }
   ],
   "source": [
    "sns.set_style('darkgrid')\n",
    "sns.catplot(kind='point', y = 'accuracy', x = 'N_speech', hue='smoother', col='method', style='method', ci=None, data = df2);"
   ]
  },
  {
   "cell_type": "markdown",
   "metadata": {
    "slideshow": {
     "slide_type": "slide"
    }
   },
   "source": [
    "# Some other questions and connections\n",
    "\n",
    "- *Why* do we expect a legislator's speech to be distinctive?\n",
    "    - Agenda? Style? Framing? Formal role?\n",
    "    - The answer might motivate more focused modeling choices.\n",
    "- Other methods for assessing distinctiveness: one-class kernel SVMs (Schölkopf et al, 2001)\n",
    "- Other comparisons of word distributions:\n",
    "    - Symmetric KL and Jensen-Shannon divergence\n",
    "    - Kernel-based metrics that can theoretically extend beyond bag-of-words analysis (Gretton et al., 2008)"
   ]
  },
  {
   "cell_type": "markdown",
   "metadata": {
    "slideshow": {
     "slide_type": "slide"
    }
   },
   "source": [
    "# References\n",
    "\n",
    "- Gretton, Arthur, Kenji Fukumizu, Choon H. Teo, Le Song, Bernhard Schölkopf, and Alex J. Smola. \"A kernel statistical test of independence.\" In Advances in neural information processing systems, pp. 585-592. 2008.\n",
    "- Juola, Patrick. \"Authorship attribution.\" Foundations and Trends® in Information Retrieval 1, no. 3 (2008): 233-334.\n",
    "- Stamatatos, Efstathios. \"A survey of modern authorship attribution methods.\" Journal of the American Society for information Science and Technology 60, no. 3 (2009): 538-556.\n",
    "- Schölkopf, Bernhard, John C. Platt, John Shawe-Taylor, Alex J. Smola, and Robert C. Williamson. \"Estimating the support of a high-dimensional distribution.\" Neural computation 13, no. 7 (2001): 1443-1471."
   ]
  }
 ],
 "metadata": {
  "celltoolbar": "Slideshow",
  "kernelspec": {
   "display_name": "Python 3",
   "language": "python",
   "name": "python3"
  },
  "language_info": {
   "codemirror_mode": {
    "name": "ipython",
    "version": 3
   },
   "file_extension": ".py",
   "mimetype": "text/x-python",
   "name": "python",
   "nbconvert_exporter": "python",
   "pygments_lexer": "ipython3",
   "version": "3.7.0"
  }
 },
 "nbformat": 4,
 "nbformat_minor": 2
}
