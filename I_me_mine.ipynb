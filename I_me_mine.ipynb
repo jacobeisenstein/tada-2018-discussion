{
 "cells": [
  {
   "cell_type": "code",
   "execution_count": 124,
   "metadata": {
    "slideshow": {
     "slide_type": "skip"
    }
   },
   "outputs": [],
   "source": [
    "import nltk\n",
    "import pandas as pd\n",
    "import seaborn as sns\n",
    "\n",
    "from tqdm import tqdm_notebook\n",
    "\n",
    "from nltk.corpus import state_union as sotu\n",
    "import numpy as np"
   ]
  },
  {
   "cell_type": "markdown",
   "metadata": {
    "slideshow": {
     "slide_type": "slide"
    }
   },
   "source": [
    "# Pronoun Usage as a Measure of Power Personalization: A General Theory with Evidence from the Chinese-Speaking World\n",
    "\n",
    "- Amy H. Liu\n",
    "- Discussion notebook by Jacob Eisenstein"
   ]
  },
  {
   "cell_type": "markdown",
   "metadata": {
    "slideshow": {
     "slide_type": "slide"
    }
   },
   "source": [
    "- Are non-democratic leaders constrained by institutions?\n",
    "- To what extent is power located in the leader's person?\n",
    "- Proposal: textual analysis can help answer these questions... maybe even in advance of concrete actions by the leader?"
   ]
  },
  {
   "cell_type": "markdown",
   "metadata": {
    "slideshow": {
     "slide_type": "fragment"
    }
   },
   "source": [
    "![Putin riding a bear](https://qph.fs.quoracdn.net/main-qimg-d6c9a75c89bb984aae6bec8f199eb610-c)"
   ]
  },
  {
   "cell_type": "markdown",
   "metadata": {
    "slideshow": {
     "slide_type": "subslide"
    }
   },
   "source": [
    "## The theory\n",
    "\n",
    "- There is a well-elaborated theory of how **pronouns** relate to the speaker's internal mental state: happiness, depression, confidence, and insecurity. \n",
    "    - initially from social psychologist James Pennebaker\n",
    "    - lots of follow-on work in fields like social computing and human-computer interaction \n",
    "- Pronouns are (argued to be) harder for speakers to control, and therefore more revealing than \"content words\".\n",
    "- Liu's proposal\n",
    "    - **First-person singular** (1PS): credit-claiming for specific policy achievements\n",
    "    - **Third-person** (3P): blaming of adversaries\n",
    "    - **First-person plural** (1PL): identification of the leader's person with the state and nation"
   ]
  },
  {
   "cell_type": "markdown",
   "metadata": {
    "slideshow": {
     "slide_type": "subslide"
    }
   },
   "source": [
    "## The quantitative analysis\n",
    "\n",
    "- Comparative analysis of three Mandarin-speaking leaders: Mao Zedong, Chiang Kai-shek, and Lee Kuan Yew\n",
    "- The analysis also considers their successors, who were presumably less personalistic and more institutionally constrained\n",
    "- Main results\n",
    "    - Each leader used more 1PP than his successors, and less 3P and 1PL\n",
    "    - Over time, the pronoun groups track the `xconst` and `bossism` metrics as predicted by the theory"
   ]
  },
  {
   "cell_type": "markdown",
   "metadata": {
    "slideshow": {
     "slide_type": "slide"
    }
   },
   "source": [
    "# Questions for discussion\n",
    "\n",
    "- Do these results generalize beyond these three specific leaders?\n",
    "- What is the variance across individuals in the larger population, and to what extent do the temporal results simply duplicate the leader-specific results?\n",
    "- Validation for the proposed connection between pronoun groups and political communication activities, such as credit claiming?"
   ]
  },
  {
   "cell_type": "markdown",
   "metadata": {
    "slideshow": {
     "slide_type": "slide"
    }
   },
   "source": [
    "# Pronoun usage in state-of-the-union addresses"
   ]
  },
  {
   "cell_type": "code",
   "execution_count": 139,
   "metadata": {
    "slideshow": {
     "slide_type": "fragment"
    }
   },
   "outputs": [
    {
     "name": "stdout",
     "output_type": "stream",
     "text": [
      "[nltk_data] Downloading package state_union to\n",
      "[nltk_data]     /home/jacob/nltk_data...\n",
      "[nltk_data]   Package state_union is already up-to-date!\n"
     ]
    }
   ],
   "source": [
    "nltk.download('state_union');"
   ]
  },
  {
   "cell_type": "code",
   "execution_count": 95,
   "metadata": {
    "slideshow": {
     "slide_type": "fragment"
    }
   },
   "outputs": [],
   "source": [
    "fps_set = {'i','me','my','mine'}\n",
    "fpp_set = {'we','us','our','ours'}\n",
    "tp_set = {'he','she','him','her','his','hers','they','them','their','theirs'}"
   ]
  },
  {
   "cell_type": "code",
   "execution_count": 67,
   "metadata": {
    "slideshow": {
     "slide_type": "skip"
    }
   },
   "outputs": [],
   "source": [
    "results = []\n",
    "for doc in sotu.fileids():\n",
    "    fps_count = len([word for word in sotu.words(doc) if word.lower() in fps_set])\n",
    "    fpp_count = len([word for word in sotu.words(doc) if word.lower() in fpp_set])\n",
    "    tp_count = len([word for word in sotu.words(doc) if word.lower() in tp_set])\n",
    "    tot_count = len(sotu.words(doc))\n",
    "    result = {'doc':doc,\n",
    "              '1ps':fps_count/tot_count,\n",
    "              '1pp':fpp_count/tot_count,\n",
    "              '3p':tp_count/tot_count,\n",
    "              'year':int(doc[:4])}\n",
    "    results.append(result)"
   ]
  },
  {
   "cell_type": "code",
   "execution_count": 68,
   "metadata": {
    "slideshow": {
     "slide_type": "skip"
    }
   },
   "outputs": [],
   "source": [
    "df = pd.DataFrame(results)"
   ]
  },
  {
   "cell_type": "code",
   "execution_count": 138,
   "metadata": {
    "slideshow": {
     "slide_type": "subslide"
    }
   },
   "outputs": [
    {
     "data": {
      "text/html": [
       "<div>\n",
       "<style scoped>\n",
       "    .dataframe tbody tr th:only-of-type {\n",
       "        vertical-align: middle;\n",
       "    }\n",
       "\n",
       "    .dataframe tbody tr th {\n",
       "        vertical-align: top;\n",
       "    }\n",
       "\n",
       "    .dataframe thead th {\n",
       "        text-align: right;\n",
       "    }\n",
       "</style>\n",
       "<table border=\"1\" class=\"dataframe\">\n",
       "  <thead>\n",
       "    <tr style=\"text-align: right;\">\n",
       "      <th></th>\n",
       "      <th>1pp</th>\n",
       "      <th>1ps</th>\n",
       "      <th>3p</th>\n",
       "      <th>doc</th>\n",
       "      <th>year</th>\n",
       "      <th>personalism</th>\n",
       "    </tr>\n",
       "  </thead>\n",
       "  <tbody>\n",
       "    <tr>\n",
       "      <th>0</th>\n",
       "      <td>0.034612</td>\n",
       "      <td>0.013096</td>\n",
       "      <td>0.007016</td>\n",
       "      <td>1945-Truman.txt</td>\n",
       "      <td>1945</td>\n",
       "      <td>1.720930</td>\n",
       "    </tr>\n",
       "    <tr>\n",
       "      <th>1</th>\n",
       "      <td>0.014127</td>\n",
       "      <td>0.005220</td>\n",
       "      <td>0.005351</td>\n",
       "      <td>1946-Truman.txt</td>\n",
       "      <td>1946</td>\n",
       "      <td>1.336420</td>\n",
       "    </tr>\n",
       "    <tr>\n",
       "      <th>2</th>\n",
       "      <td>0.024926</td>\n",
       "      <td>0.007418</td>\n",
       "      <td>0.006677</td>\n",
       "      <td>1947-Truman.txt</td>\n",
       "      <td>1947</td>\n",
       "      <td>1.768421</td>\n",
       "    </tr>\n",
       "    <tr>\n",
       "      <th>3</th>\n",
       "      <td>0.044347</td>\n",
       "      <td>0.005784</td>\n",
       "      <td>0.006310</td>\n",
       "      <td>1948-Truman.txt</td>\n",
       "      <td>1948</td>\n",
       "      <td>3.666667</td>\n",
       "    </tr>\n",
       "    <tr>\n",
       "      <th>4</th>\n",
       "      <td>0.040608</td>\n",
       "      <td>0.006288</td>\n",
       "      <td>0.007074</td>\n",
       "      <td>1949-Truman.txt</td>\n",
       "      <td>1949</td>\n",
       "      <td>3.039216</td>\n",
       "    </tr>\n",
       "    <tr>\n",
       "      <th>5</th>\n",
       "      <td>0.046712</td>\n",
       "      <td>0.006170</td>\n",
       "      <td>0.008285</td>\n",
       "      <td>1950-Truman.txt</td>\n",
       "      <td>1950</td>\n",
       "      <td>3.231707</td>\n",
       "    </tr>\n",
       "    <tr>\n",
       "      <th>6</th>\n",
       "      <td>0.052282</td>\n",
       "      <td>0.004874</td>\n",
       "      <td>0.014843</td>\n",
       "      <td>1951-Truman.txt</td>\n",
       "      <td>1951</td>\n",
       "      <td>2.651685</td>\n",
       "    </tr>\n",
       "  </tbody>\n",
       "</table>\n",
       "</div>"
      ],
      "text/plain": [
       "        1pp       1ps        3p              doc  year  personalism\n",
       "0  0.034612  0.013096  0.007016  1945-Truman.txt  1945     1.720930\n",
       "1  0.014127  0.005220  0.005351  1946-Truman.txt  1946     1.336420\n",
       "2  0.024926  0.007418  0.006677  1947-Truman.txt  1947     1.768421\n",
       "3  0.044347  0.005784  0.006310  1948-Truman.txt  1948     3.666667\n",
       "4  0.040608  0.006288  0.007074  1949-Truman.txt  1949     3.039216\n",
       "5  0.046712  0.006170  0.008285  1950-Truman.txt  1950     3.231707\n",
       "6  0.052282  0.004874  0.014843  1951-Truman.txt  1951     2.651685"
      ]
     },
     "execution_count": 138,
     "metadata": {},
     "output_type": "execute_result"
    }
   ],
   "source": [
    "df.head(7)"
   ]
  },
  {
   "cell_type": "code",
   "execution_count": 71,
   "metadata": {
    "slideshow": {
     "slide_type": "subslide"
    }
   },
   "outputs": [
    {
     "data": {
      "image/png": "[encoded data removed]",
      "text/plain": [
       "<Figure size 432x288 with 1 Axes>"
      ]
     },
     "metadata": {
      "needs_background": "light"
     },
     "output_type": "display_data"
    }
   ],
   "source": [
    "df.plot('year',['1pp','1ps','3p'],style=['k-','r--','b:']);"
   ]
  },
  {
   "cell_type": "code",
   "execution_count": 70,
   "metadata": {
    "slideshow": {
     "slide_type": "subslide"
    }
   },
   "outputs": [],
   "source": [
    "df['personalism'] = (df['1pp'] / (df['1ps'] + df['3p']))"
   ]
  },
  {
   "cell_type": "code",
   "execution_count": 72,
   "metadata": {
    "slideshow": {
     "slide_type": "fragment"
    }
   },
   "outputs": [
    {
     "data": {
      "image/png": "[encoded data removed]",
      "text/plain": [
       "<Figure size 432x288 with 1 Axes>"
      ]
     },
     "metadata": {
      "needs_background": "light"
     },
     "output_type": "display_data"
    }
   ],
   "source": [
    "df.plot('year','personalism');"
   ]
  },
  {
   "cell_type": "markdown",
   "metadata": {
    "slideshow": {
     "slide_type": "fragment"
    }
   },
   "source": [
    "The language of personalist leadership in the US?\n",
    "\n",
    "- High: Trumar, Carter, early Reagan\n",
    "- Low: Johnson, Nixon, Clinton"
   ]
  },
  {
   "cell_type": "markdown",
   "metadata": {
    "slideshow": {
     "slide_type": "slide"
    }
   },
   "source": [
    "# Co-occurrence\n",
    "\n",
    "The paper argues that the pronouns groups reflect the following tendencies:\n",
    "\n",
    "- First-person singular: credit-claiming\n",
    "- Third-person singular: blaming\n",
    "- First-person plural: identification of self with nation\n",
    "\n",
    "Additional validation: what words that tend to accompany these pronoun groups?\n",
    "\n",
    "- Method: count words that appear within $k=7$ positions of a member of the pronoun group\n",
    "- For each group, sort by \n",
    "\\begin{equation}\n",
    "\\eta_c = \\log \\frac{p(w \\mid \\text{ near pronoun of class } c) }{p(w)}\n",
    "\\end{equation}"
   ]
  },
  {
   "cell_type": "code",
   "execution_count": 103,
   "metadata": {
    "slideshow": {
     "slide_type": "skip"
    }
   },
   "outputs": [
    {
     "data": {
      "application/vnd.jupyter.widget-view+json": {
       "model_id": "d66d0a1617434da684555b208658436c",
       "version_major": 2,
       "version_minor": 0
      },
      "text/plain": [
       "HBox(children=(IntProgress(value=0, max=65), HTML(value='')))"
      ]
     },
     "metadata": {},
     "output_type": "display_data"
    },
    {
     "name": "stdout",
     "output_type": "stream",
     "text": [
      "\n"
     ]
    }
   ],
   "source": [
    "neighbors = defaultdict(Counter)\n",
    "for doc in tqdm_notebook(sotu.fileids()):\n",
    "    for set_name,word_set in zip(['1ps','1pp','3p'],[fps_set,fpp_set,tp_set]):\n",
    "        idxs = [i for i,word in enumerate(sotu.words(doc)) if word.lower() in word_set]\n",
    "        local_neighbors = [word.lower() for i,word in enumerate(sotu.words(doc))\n",
    "                    if np.abs(np.array(idxs) - i).min() < window_size]\n",
    "        neighbors[set_name] += Counter(local_neighbors)"
   ]
  },
  {
   "cell_type": "code",
   "execution_count": 113,
   "metadata": {
    "slideshow": {
     "slide_type": "skip"
    }
   },
   "outputs": [
    {
     "data": {
      "application/vnd.jupyter.widget-view+json": {
       "model_id": "8b9e09f83747494aa409843454a91666",
       "version_major": 2,
       "version_minor": 0
      },
      "text/plain": [
       "HBox(children=(IntProgress(value=0, max=65), HTML(value='')))"
      ]
     },
     "metadata": {},
     "output_type": "display_data"
    },
    {
     "name": "stdout",
     "output_type": "stream",
     "text": [
      "\n"
     ]
    }
   ],
   "source": [
    "tot_counts = Counter()\n",
    "for doc in tqdm_notebook(sotu.fileids()):\n",
    "    tot_counts += Counter([word.lower() for word in sotu.words(doc)])"
   ]
  },
  {
   "cell_type": "code",
   "execution_count": 117,
   "metadata": {
    "slideshow": {
     "slide_type": "skip"
    }
   },
   "outputs": [],
   "source": [
    "log_odds = dict()\n",
    "for group, n_counts in neighbors.items():\n",
    "    log_odds[group] = Counter()\n",
    "    for word,count in n_counts.items():\n",
    "        if count > 5:\n",
    "            log_odds[group][word] = np.log(count) - np.log(tot_counts[word])"
   ]
  },
  {
   "cell_type": "code",
   "execution_count": 135,
   "metadata": {
    "slideshow": {
     "slide_type": "subslide"
    }
   },
   "outputs": [
    {
     "name": "stdout",
     "output_type": "stream",
     "text": [
      "1ps ===========================\n",
      "i my me mine personally pleased am urge announce mention colleagues convinced m recommend repeat outlined recommending requesting myself propose ask submit request accordingly visited\n",
      "\n",
      "1pp ===========================\n",
      "we our us forefathers ours unite bicentennial reminds owe gather intensify allies traditions enrich shouldn lesson shores cherish learned strengths confront ignore blessed strive enemies\n",
      "\n",
      "3p ===========================\n",
      "his he them her they their him theirs she deprived futures deserve talents dead lose perform wrote son himself destroyed manage gave wife tools color\n",
      "\n"
     ]
    }
   ],
   "source": [
    "for lexicon,log_odd_lex in log_odds.items(): \n",
    "    print(lexicon+' ===========================')\n",
    "    print(' '.join([word[0] for word in log_odd_lex.most_common(25)]))\n",
    "    print()"
   ]
  },
  {
   "cell_type": "markdown",
   "metadata": {
    "slideshow": {
     "slide_type": "fragment"
    }
   },
   "source": [
    "- **First-person singular**: specific proposals (announce, recommend, outlined, propose, request)\n",
    "- **First-person plural**: themes of unity (forefathers, unite, traditions, cherish, strengths, enemies)\n",
    "- **Third-person**: a mix, but some negative sentiment (deprived, dead, lose, destroyed)"
   ]
  },
  {
   "cell_type": "markdown",
   "metadata": {
    "slideshow": {
     "slide_type": "slide"
    }
   },
   "source": [
    "## Summary\n",
    "\n",
    "- If text could **predict** the transition to personalist rule, that would be incredibly cool.\n",
    "- A crucial next step is generalization beyond idiosyncracies of these three particular leaders.\n",
    "    - To what extent are these results due to within-speaker variation?\n",
    "    - To what extent are they due to leader selection?\n",
    "- Co-occurrence analysis mostly supports proposed hypothesis about what each pronoun group does.\n",
    "    - But again, within-speaker analysis would make this much more compelling."
   ]
  }
 ],
 "metadata": {
  "celltoolbar": "Slideshow",
  "kernelspec": {
   "display_name": "Python 3",
   "language": "python",
   "name": "python3"
  },
  "language_info": {
   "codemirror_mode": {
    "name": "ipython",
    "version": 3
   },
   "file_extension": ".py",
   "mimetype": "text/x-python",
   "name": "python",
   "nbconvert_exporter": "python",
   "pygments_lexer": "ipython3",
   "version": "3.7.0"
  }
 },
 "nbformat": 4,
 "nbformat_minor": 2
}
